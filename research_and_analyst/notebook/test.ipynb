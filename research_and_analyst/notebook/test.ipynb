{
 "cells": [
  {
   "cell_type": "markdown",
   "id": "4c0a2199",
   "metadata": {},
   "source": [
    "#### Project 4"
   ]
  },
  {
   "cell_type": "code",
   "execution_count": 1,
   "id": "9adff13d",
   "metadata": {},
   "outputs": [
    {
     "name": "stdout",
     "output_type": "stream",
     "text": [
      "notebook ok\n"
     ]
    }
   ],
   "source": [
    "# uv export --no-hashes > requirements.txt\n",
    "print(\"notebook ok\")"
   ]
  },
  {
   "cell_type": "code",
   "execution_count": 3,
   "id": "5b6cbeb3",
   "metadata": {},
   "outputs": [],
   "source": [
    "from research_and_analyst.utils.model_loader import ModelLoader"
   ]
  },
  {
   "cell_type": "code",
   "execution_count": 4,
   "id": "d1cdccde",
   "metadata": {},
   "outputs": [
    {
     "name": "stderr",
     "output_type": "stream",
     "text": [
      "{\"timestamp\": \"2025-10-17T09:43:32.781909Z\", \"level\": \"info\", \"event\": \"GOOGLE_API_KEY loaded from environment\"}\n",
      "{\"timestamp\": \"2025-10-17T09:43:32.791385Z\", \"level\": \"info\", \"event\": \"GROQ_API_KEY loaded from environment\"}\n",
      "{\"timestamp\": \"2025-10-17T09:43:32.799777Z\", \"level\": \"warning\", \"event\": \"ASTRA_DB_API_ENDPOINT is missing from environment\"}\n",
      "{\"timestamp\": \"2025-10-17T09:43:32.811552Z\", \"level\": \"warning\", \"event\": \"ASTRA_DB_APPLICATION_TOKEN is missing from environment\"}\n",
      "{\"timestamp\": \"2025-10-17T09:43:32.818741Z\", \"level\": \"warning\", \"event\": \"ASTRA_DB_KEYSPACE is missing from environment\"}\n",
      "{\"config_keys\": [\"astra_db\", \"embedding_model\", \"retriever\", \"llm\"], \"timestamp\": \"2025-10-17T09:43:32.902834Z\", \"level\": \"info\", \"event\": \"YAML config loaded\"}\n"
     ]
    }
   ],
   "source": [
    "model_loader = ModelLoader()"
   ]
  },
  {
   "cell_type": "code",
   "execution_count": 5,
   "id": "1babd0c7",
   "metadata": {},
   "outputs": [
    {
     "name": "stderr",
     "output_type": "stream",
     "text": [
      "{\"provider\": \"groq\", \"model\": \"llama-3.3-70b-versatile\", \"timestamp\": \"2025-10-17T09:43:36.162164Z\", \"level\": \"info\", \"event\": \"Loading LLM\"}\n"
     ]
    }
   ],
   "source": [
    "llm = model_loader.load_llm()"
   ]
  },
  {
   "cell_type": "code",
   "execution_count": 5,
   "id": "35ac88cc",
   "metadata": {},
   "outputs": [
    {
     "name": "stderr",
     "output_type": "stream",
     "text": [
      "HTTP Request: POST https://api.groq.com/openai/v1/chat/completions \"HTTP/1.1 200 OK\"\n"
     ]
    },
    {
     "data": {
      "text/plain": [
       "AIMessage(content=\"Hello. I'm just a language model, so I don't have feelings or emotions like humans do, but I'm functioning properly and ready to assist you with any questions or tasks you may have. How can I help you today?\", additional_kwargs={}, response_metadata={'token_usage': {'completion_tokens': 48, 'prompt_tokens': 41, 'total_tokens': 89, 'completion_time': 0.097114962, 'prompt_time': 0.00213851, 'queue_time': 0.09321595, 'total_time': 0.099253472}, 'model_name': 'llama-3.3-70b-versatile', 'system_fingerprint': 'fp_9e1e8f8435', 'service_tier': 'on_demand', 'finish_reason': 'stop', 'logprobs': None}, id='run--a9601c56-9559-4bea-8e6a-639b82f9d6c4-0', usage_metadata={'input_tokens': 41, 'output_tokens': 48, 'total_tokens': 89})"
      ]
     },
     "execution_count": 5,
     "metadata": {},
     "output_type": "execute_result"
    }
   ],
   "source": [
    "llm.invoke(\"Hello, how are you?\")"
   ]
  },
  {
   "cell_type": "code",
   "execution_count": 20,
   "id": "c4baff5e",
   "metadata": {},
   "outputs": [],
   "source": [
    "from typing import List\n",
    "from typing_extensions import TypedDict\n",
    "from pydantic import BaseModel, Field"
   ]
  },
  {
   "cell_type": "code",
   "execution_count": null,
   "id": "81001982",
   "metadata": {},
   "outputs": [],
   "source": []
  },
  {
   "cell_type": "code",
   "execution_count": 14,
   "id": "ff0a9f43",
   "metadata": {},
   "outputs": [],
   "source": [
    "def human_feedback(state):\n",
    "    \"\"\"_summary_\n",
    "\n",
    "    Args:\n",
    "        state (_type_): _description_\n",
    "    \"\"\"\n",
    "    pass"
   ]
  },
  {
   "cell_type": "code",
   "execution_count": 15,
   "id": "71538cbc",
   "metadata": {},
   "outputs": [],
   "source": [
    "def create_analyst(state):\n",
    "    \"\"\"_summary_\n",
    "\n",
    "    Args:\n",
    "        state (_type_): _description_\n",
    "    \"\"\"\n",
    "    pass"
   ]
  },
  {
   "cell_type": "code",
   "execution_count": 16,
   "id": "85e9d970",
   "metadata": {},
   "outputs": [],
   "source": [
    "def should_continue(state):\n",
    "    \"\"\"_summary_\n",
    "\n",
    "    Args:\n",
    "        state (_type_): _description_\n",
    "    \"\"\"\n",
    "    pass"
   ]
  },
  {
   "cell_type": "code",
   "execution_count": 21,
   "id": "a51231d7",
   "metadata": {},
   "outputs": [],
   "source": [
    "from langgraph.graph import StateGraph, START, END\n",
    "from langchain_core.messages import AIMessage, HumanMessage, SystemMessage\n",
    "from langgraph.checkpoint.memory import MemorySaver"
   ]
  },
  {
   "cell_type": "code",
   "execution_count": 14,
   "id": "edd89758",
   "metadata": {},
   "outputs": [],
   "source": [
    "import operator\n",
    "from typing import  Annotated\n",
    "from langgraph.graph import MessagesState\n",
    "class Analyst(BaseModel):\n",
    "    \"\"\"_summary_\n",
    "    \"\"\"\n",
    "    name: str = Field(..., description=\"Name of the analyst\")\n",
    "    role: str = Field(..., description=\"Role of the analyst in the context of the topic\")\n",
    "    affiliation: str = Field(..., description=\"Primary affiliation of the analyst\")\n",
    "    description: str = Field(..., description=\"Description of the analyst focus, concerns, and motives\")\n",
    "\n",
    "    @property\n",
    "    def persona(self) -> str:\n",
    "        return f\"Name: {self.name}\\nRole: {self.role}\\nAffiliation: {self.affiliation}\\nDescription: {self.description}\\n\""
   ]
  },
  {
   "cell_type": "code",
   "execution_count": 15,
   "id": "13d8e5ee",
   "metadata": {},
   "outputs": [],
   "source": [
    "class Perspective(BaseModel):\n",
    "    analysts: List[Analyst] = Field(..., description=\"Comprehensive list of analysts with their roles and affiliations.\")"
   ]
  },
  {
   "cell_type": "code",
   "execution_count": 22,
   "id": "823df3d0",
   "metadata": {},
   "outputs": [],
   "source": [
    "analyst = Analyst(\n",
    "    name=\"klangat\",\n",
    "    role=\"Gen AI eng.\",\n",
    "    affiliation=\"OpenAI\",\n",
    "    description=\"Focus on building and deploying generative AI models.\"\n",
    ")"
   ]
  },
  {
   "cell_type": "code",
   "execution_count": 23,
   "id": "0046c990",
   "metadata": {},
   "outputs": [
    {
     "data": {
      "text/plain": [
       "Analyst(name='klangat', role='Gen AI eng.', affiliation='OpenAI', description='Focus on building and deploying generative AI models.')"
      ]
     },
     "execution_count": 23,
     "metadata": {},
     "output_type": "execute_result"
    }
   ],
   "source": [
    "analyst"
   ]
  },
  {
   "cell_type": "code",
   "execution_count": 24,
   "id": "038f2661",
   "metadata": {},
   "outputs": [
    {
     "name": "stdout",
     "output_type": "stream",
     "text": [
      "Name: klangat\n",
      "Role: Gen AI eng.\n",
      "Affiliation: OpenAI\n",
      "Description: Focus on building and deploying generative AI models.\n",
      "\n"
     ]
    }
   ],
   "source": [
    "print(analyst.persona)"
   ]
  },
  {
   "cell_type": "code",
   "execution_count": 25,
   "id": "0be5bdac",
   "metadata": {},
   "outputs": [
    {
     "data": {
      "text/plain": [
       "'Gen AI eng.'"
      ]
     },
     "execution_count": 25,
     "metadata": {},
     "output_type": "execute_result"
    }
   ],
   "source": [
    "analyst.role"
   ]
  },
  {
   "cell_type": "code",
   "execution_count": 26,
   "id": "c3f0d1ab",
   "metadata": {},
   "outputs": [
    {
     "data": {
      "text/plain": [
       "'OpenAI'"
      ]
     },
     "execution_count": 26,
     "metadata": {},
     "output_type": "execute_result"
    }
   ],
   "source": [
    "analyst.affiliation"
   ]
  },
  {
   "cell_type": "code",
   "execution_count": 27,
   "id": "49549c59",
   "metadata": {},
   "outputs": [],
   "source": [
    "class GenerateAnalystsState(TypedDict):\n",
    "    \"\"\"_summary_\n",
    "    \"\"\"\n",
    "    topic: str\n",
    "    max_analysts: int\n",
    "    human_analyst_feedback: str\n",
    "    analysts: List[Analyst]"
   ]
  },
  {
   "cell_type": "code",
   "execution_count": 28,
   "id": "3d811945",
   "metadata": {},
   "outputs": [
    {
     "data": {
      "text/plain": [
       "{'topic': 'AI in healthcare',\n",
       " 'max_analysts': 5,\n",
       " 'human_analyst_feedback': 'give the real information'}"
      ]
     },
     "execution_count": 28,
     "metadata": {},
     "output_type": "execute_result"
    }
   ],
   "source": [
    "GenerateAnalystsState(\n",
    "    topic=\"AI in healthcare\",\n",
    "    max_analysts=5,\n",
    "    human_analyst_feedback=\"give the real information\",\n",
    ")"
   ]
  },
  {
   "cell_type": "code",
   "execution_count": 29,
   "id": "0b7b8b69",
   "metadata": {},
   "outputs": [],
   "source": [
    "analyst_instructions = \"\"\"You are tasked with creating a set of AI analyst personas. Follow these instructions carefully:\n",
    "\n",
    "1. First, review the research topic:\n",
    "{topic}\n",
    "        \n",
    "2. Examine any editorial feedback that has been optionally provided to guide creation of the analysts: \n",
    "        \n",
    "{human_analyst_feedback}\n",
    "    \n",
    "3. Determine the most interesting themes based upon documents and / or feedback above.\n",
    "                    \n",
    "4. Pick the top {max_analysts} themes.\n",
    "\n",
    "5. Assign one analyst to each theme.\"\"\""
   ]
  },
  {
   "cell_type": "code",
   "execution_count": 30,
   "id": "7f1fcc38",
   "metadata": {},
   "outputs": [],
   "source": [
    "def create_analyst(state):\n",
    "    \"\"\"It is creating my analyst\n",
    "    \"\"\"\n",
    "    topic = state[\"topic\"]\n",
    "    max_analysts = state[\"max_analysts\"]\n",
    "    human_analyst_feedback = state.get(\"human_analyst_feedback\", \"\")\n",
    "\n",
    "    structured_llm = llm.with_structured_output(Perspective)\n",
    "\n",
    "    system_messages = analyst_instructions.format(\n",
    "        topic=topic,\n",
    "        max_analysts=max_analysts,\n",
    "        human_analyst_feedback=human_analyst_feedback\n",
    "    )\n",
    "\n",
    "    analysts = structured_llm.invoke([SystemMessage(content=system_messages)] + [HumanMessage(content=\"Generate the set of analysts\")])\n",
    "\n",
    "    # write the list of analysis to state\n",
    "    return{\"analysts\": analysts.analysts}"
   ]
  },
  {
   "cell_type": "code",
   "execution_count": 31,
   "id": "25548b22",
   "metadata": {},
   "outputs": [
    {
     "name": "stdout",
     "output_type": "stream",
     "text": [
      "['You are tasked with creating a set of AI analyst personas. Follow these instructions carefully:\\n\\n1. First, review the research topic:\\nAI in healthcare\\n\\n2. Examine any editorial feedback that has been optionally provided to guide creation of the analysts: \\n\\nplease expalain only on AI\\n\\n3. Determine the most interesting themes based upon documents and / or feedback above.\\n\\n4. Pick the top 4 themes.\\n\\n5. Assign one analyst to each theme.', 'Generate the set of analysts.']\n"
     ]
    }
   ],
   "source": [
    "print([analyst_instructions.format(\n",
    "    topic=\"AI in healthcare\",\n",
    "    max_analysts=4,\n",
    "    human_analyst_feedback=\"please expalain only on AI\"\n",
    ")] + [\"Generate the set of analysts.\"])"
   ]
  },
  {
   "cell_type": "code",
   "execution_count": 32,
   "id": "5c67e871",
   "metadata": {},
   "outputs": [
    {
     "name": "stderr",
     "output_type": "stream",
     "text": [
      "HTTP Request: POST https://api.groq.com/openai/v1/chat/completions \"HTTP/1.1 200 OK\"\n"
     ]
    },
    {
     "data": {
      "text/plain": [
       "{'analysts': [Analyst(name='Dr. Rachel Kim', role='Healthcare Expert', affiliation='Harvard Medical School', description='Focus on AI applications in medical diagnosis and treatment, with concerns about data privacy and algorithmic bias.'),\n",
       "  Analyst(name='Dr. Liam Chen', role='AI Researcher', affiliation='Stanford University', description='Examines the potential of AI in personalized medicine, with a focus on machine learning and natural language processing.'),\n",
       "  Analyst(name='Dr. Ava Moreno', role='Ethics Specialist', affiliation='University of California, Berkeley', description='Investigates the ethical implications of AI in healthcare, including issues of patient autonomy and informed consent.'),\n",
       "  Analyst(name='Dr. Julian Lee', role='Industry Consultant', affiliation='Deloitte', description='Analyzes the business and economic impact of AI on the healthcare industry, with a focus on cost savings and efficiency gains.')]}"
      ]
     },
     "execution_count": 32,
     "metadata": {},
     "output_type": "execute_result"
    }
   ],
   "source": [
    "create_analyst(\n",
    "    {'topic': 'AI in healthcare',\n",
    "    'max_analysts': 4,\n",
    "    'human_analyst_feedback': 'give the real information'}\n",
    ")"
   ]
  },
  {
   "cell_type": "code",
   "execution_count": 33,
   "id": "f4ac95d0",
   "metadata": {},
   "outputs": [],
   "source": [
    "def human_feedback(state):\n",
    "    \"\"\" No op node that should be interrupted on \"\"\"\n",
    "    pass"
   ]
  },
  {
   "cell_type": "code",
   "execution_count": 34,
   "id": "5cfb4fa5",
   "metadata": {},
   "outputs": [],
   "source": [
    "def should_continue(state):\n",
    "    \"\"\" summanry\"\"\"\n",
    "    feedback = (state.get(\"human_analyst_feedback\") or \"\").strip().lower()\n",
    "    if feedback and feedback not in [\"\", \"none\", \"no\", \"nope\", \"skip\", \"done\", \"continue\"]:\n",
    "        return \"create_analyst\"\n",
    "    return END"
   ]
  },
  {
   "cell_type": "code",
   "execution_count": 35,
   "id": "671db5b0",
   "metadata": {},
   "outputs": [],
   "source": [
    "from IPython.display import display, Markdown, Image"
   ]
  },
  {
   "cell_type": "code",
   "execution_count": 36,
   "id": "93e84615",
   "metadata": {},
   "outputs": [],
   "source": [
    "builder = StateGraph(GenerateAnalystsState)"
   ]
  },
  {
   "cell_type": "code",
   "execution_count": 37,
   "id": "8489c7bb",
   "metadata": {},
   "outputs": [
    {
     "data": {
      "text/plain": [
       "<langgraph.graph.state.StateGraph at 0x22b76b24c90>"
      ]
     },
     "execution_count": 37,
     "metadata": {},
     "output_type": "execute_result"
    }
   ],
   "source": [
    "builder.add_node(\"create_analyst\", create_analyst)\n",
    "builder.add_node(\"human_feedback\", human_feedback)"
   ]
  },
  {
   "cell_type": "code",
   "execution_count": 38,
   "id": "f5ed7190",
   "metadata": {},
   "outputs": [
    {
     "data": {
      "text/plain": [
       "<langgraph.graph.state.StateGraph at 0x22b76b24c90>"
      ]
     },
     "execution_count": 38,
     "metadata": {},
     "output_type": "execute_result"
    }
   ],
   "source": [
    "builder.add_edge(START, \"create_analyst\")\n",
    "builder.add_edge(\"create_analyst\", \"human_feedback\")\n",
    "builder.add_conditional_edges(\"human_feedback\",\n",
    "                               should_continue,\n",
    "                               [\"create_analyst\",\n",
    "                                END])"
   ]
  },
  {
   "cell_type": "code",
   "execution_count": 39,
   "id": "4849cd89",
   "metadata": {},
   "outputs": [],
   "source": [
    "memory = MemorySaver()"
   ]
  },
  {
   "cell_type": "code",
   "execution_count": 40,
   "id": "1dc27620",
   "metadata": {},
   "outputs": [],
   "source": [
    "graph = builder.compile(interrupt_before= [\"human_feedback\"], checkpointer=memory)"
   ]
  },
  {
   "cell_type": "code",
   "execution_count": 41,
   "id": "f2799fb3",
   "metadata": {},
   "outputs": [
    {
     "data": {
      "image/png": "[encoded data removed]",
      "text/plain": [
       "<IPython.core.display.Image object>"
      ]
     },
     "metadata": {},
     "output_type": "display_data"
    }
   ],
   "source": [
    "display(Image(graph.get_graph(xray=1).draw_mermaid_png()))"
   ]
  },
  {
   "cell_type": "code",
   "execution_count": 42,
   "id": "0fe659b4",
   "metadata": {},
   "outputs": [],
   "source": [
    "topic = \"The benefits of adopting Langgraph as an agent Framework over Autogen\""
   ]
  },
  {
   "cell_type": "code",
   "execution_count": 43,
   "id": "d3bac431",
   "metadata": {},
   "outputs": [],
   "source": [
    "max_analysts = 4\n",
    "thread = {\"configurable\": {\"thread_id\": 1}}"
   ]
  },
  {
   "cell_type": "code",
   "execution_count": 44,
   "id": "302e75cc",
   "metadata": {},
   "outputs": [
    {
     "name": "stderr",
     "output_type": "stream",
     "text": [
      "HTTP Request: POST https://api.groq.com/openai/v1/chat/completions \"HTTP/1.1 200 OK\"\n"
     ]
    },
    {
     "name": "stdout",
     "output_type": "stream",
     "text": [
      "Name: Dr. Rachel Kim\n",
      "Role: AI Researcher\n",
      "Affiliation: Stanford University\n",
      "Description: Expert in natural language processing and agent frameworks, focusing on the benefits of Langgraph's flexibility and customizability\n",
      "--------------------------------------------------\n",
      "Name: Dr. Liam Chen\n",
      "Role: Software Engineer\n",
      "Affiliation: Google\n",
      "Description: Specialist in developing scalable and efficient systems, concerned with the performance and reliability of Autogen versus Langgraph\n",
      "--------------------------------------------------\n",
      "Name: Dr. Ava Moreno\n",
      "Role: Cognitive Scientist\n",
      "Affiliation: MIT\n",
      "Description: Researcher in human-computer interaction and decision-making, interested in the potential of Langgraph to enhance user experience and decision-support\n",
      "--------------------------------------------------\n",
      "Name: Dr. Julian Lee\n",
      "Role: Tech Consultant\n",
      "Affiliation: Deloitte\n",
      "Description: Advisor on technology adoption and integration, motivated by the cost-benefit analysis and return on investment of adopting Langgraph over Autogen\n",
      "--------------------------------------------------\n"
     ]
    }
   ],
   "source": [
    "for event in graph.stream({\"topic\":topic,\n",
    "            \"max_analysts\":max_analysts},\n",
    "            thread,\n",
    "            stream_mode= \"values\"):\n",
    "    analysts = event.get('analysts', '')\n",
    "\n",
    "    if analysts:\n",
    "        for analyst in analysts:\n",
    "            print(f\"Name: {analyst.name}\")\n",
    "            print(f\"Role: {analyst.role}\")\n",
    "            print(f\"Affiliation: {analyst.affiliation}\")\n",
    "            print(f\"Description: {analyst.description}\")\n",
    "            print(\"-\" * 50)"
   ]
  },
  {
   "cell_type": "code",
   "execution_count": 45,
   "id": "4ec2f68d",
   "metadata": {},
   "outputs": [],
   "source": [
    "state = graph.get_state(thread)"
   ]
  },
  {
   "cell_type": "code",
   "execution_count": 46,
   "id": "04be876b",
   "metadata": {},
   "outputs": [
    {
     "data": {
      "text/plain": [
       "StateSnapshot(values={'topic': 'The benefits of adopting Langgraph as an agent Framework over Autogen', 'max_analysts': 4, 'analysts': [Analyst(name='Dr. Rachel Kim', role='AI Researcher', affiliation='Stanford University', description=\"Expert in natural language processing and agent frameworks, focusing on the benefits of Langgraph's flexibility and customizability\"), Analyst(name='Dr. Liam Chen', role='Software Engineer', affiliation='Google', description='Specialist in developing scalable and efficient systems, concerned with the performance and reliability of Autogen versus Langgraph'), Analyst(name='Dr. Ava Moreno', role='Cognitive Scientist', affiliation='MIT', description='Researcher in human-computer interaction and decision-making, interested in the potential of Langgraph to enhance user experience and decision-support'), Analyst(name='Dr. Julian Lee', role='Tech Consultant', affiliation='Deloitte', description='Advisor on technology adoption and integration, motivated by the cost-benefit analysis and return on investment of adopting Langgraph over Autogen')]}, next=('human_feedback',), config={'configurable': {'thread_id': '1', 'checkpoint_ns': '', 'checkpoint_id': '1f0ab41a-b563-6bfe-8001-2aa5077d7729'}}, metadata={'source': 'loop', 'step': 1, 'parents': {}}, created_at='2025-10-17T10:11:38.426470+00:00', parent_config={'configurable': {'thread_id': '1', 'checkpoint_ns': '', 'checkpoint_id': '1f0ab41a-a73f-6f29-8000-9d03fb921694'}}, tasks=(PregelTask(id='fa778b92-2582-f001-b8ea-10f0f72249c9', name='human_feedback', path=('__pregel_pull', 'human_feedback'), error=None, interrupts=(), state=None, result=None),), interrupts=())"
      ]
     },
     "execution_count": 46,
     "metadata": {},
     "output_type": "execute_result"
    }
   ],
   "source": [
    "state"
   ]
  },
  {
   "cell_type": "code",
   "execution_count": 47,
   "id": "e7593125",
   "metadata": {},
   "outputs": [
    {
     "data": {
      "text/plain": [
       "('human_feedback',)"
      ]
     },
     "execution_count": 47,
     "metadata": {},
     "output_type": "execute_result"
    }
   ],
   "source": [
    "# Check attribute- next\n",
    "state.next"
   ]
  },
  {
   "cell_type": "code",
   "execution_count": 48,
   "id": "e8805aba",
   "metadata": {},
   "outputs": [
    {
     "data": {
      "text/plain": [
       "{'configurable': {'thread_id': '1',\n",
       "  'checkpoint_ns': '',\n",
       "  'checkpoint_id': '1f0ab41b-4c23-6cb2-8002-07f8f9a70df0'}}"
      ]
     },
     "execution_count": 48,
     "metadata": {},
     "output_type": "execute_result"
    }
   ],
   "source": [
    "graph.update_state(thread,\n",
    "                   {\"human_analyst_feedback\": \"add some start up perspective and focus on latest enterprise application.\"}, as_node=\"human_feedback\"\n",
    "                   )"
   ]
  },
  {
   "cell_type": "code",
   "execution_count": 49,
   "id": "9c7dcf68",
   "metadata": {},
   "outputs": [],
   "source": [
    "# If we are satisfied, then we simply supply no feedback\n",
    "further_feedback = \"\""
   ]
  },
  {
   "cell_type": "code",
   "execution_count": 50,
   "id": "d857fa78",
   "metadata": {},
   "outputs": [],
   "source": [
    "# 1) Get the latest state (you're paused at 'human_feedback')\n",
    "state = graph.get_state(thread)\n",
    "\n",
    "# 2) Use the exact config from that state (it already has thread_id, checkpoint_ns, checkpoint_id)\n",
    "cfg = state.config"
   ]
  },
  {
   "cell_type": "code",
   "execution_count": 51,
   "id": "e325ae2f",
   "metadata": {},
   "outputs": [
    {
     "data": {
      "text/plain": [
       "{'configurable': {'thread_id': '1',\n",
       "  'checkpoint_ns': '',\n",
       "  'checkpoint_id': '1f0ab41b-aaf8-622e-8003-a6e577703d1a'}}"
      ]
     },
     "execution_count": 51,
     "metadata": {},
     "output_type": "execute_result"
    }
   ],
   "source": [
    "# 3) Update feedback at the 'human_feedback' node\n",
    "#    Tip: if your TypedDict says `human_analyst_feedback: str`, prefer \"\" (empty string) over None\n",
    "graph.update_state(cfg, {\"human_analyst_feedback\": \"\"}, as_node=\"human_feedback\")"
   ]
  },
  {
   "cell_type": "code",
   "execution_count": 52,
   "id": "0551e8ca",
   "metadata": {},
   "outputs": [
    {
     "name": "stdout",
     "output_type": "stream",
     "text": [
      "()\n"
     ]
    }
   ],
   "source": [
    "# 4) Verify it moved to END\n",
    "final_state = graph.get_state(thread)\n",
    "print(final_state.next) # should be (END,)"
   ]
  },
  {
   "cell_type": "code",
   "execution_count": 53,
   "id": "fec23209",
   "metadata": {},
   "outputs": [
    {
     "data": {
      "text/plain": [
       "[Analyst(name='Dr. Rachel Kim', role='AI Researcher', affiliation='Stanford University', description=\"Expert in natural language processing and agent frameworks, focusing on the benefits of Langgraph's flexibility and customizability\"),\n",
       " Analyst(name='Dr. Liam Chen', role='Software Engineer', affiliation='Google', description='Specialist in developing scalable and efficient systems, concerned with the performance and reliability of Autogen versus Langgraph'),\n",
       " Analyst(name='Dr. Ava Moreno', role='Cognitive Scientist', affiliation='MIT', description='Researcher in human-computer interaction and decision-making, interested in the potential of Langgraph to enhance user experience and decision-support'),\n",
       " Analyst(name='Dr. Julian Lee', role='Tech Consultant', affiliation='Deloitte', description='Advisor on technology adoption and integration, motivated by the cost-benefit analysis and return on investment of adopting Langgraph over Autogen')]"
      ]
     },
     "execution_count": 53,
     "metadata": {},
     "output_type": "execute_result"
    }
   ],
   "source": [
    "analysts = final_state.values.get(\"analysts\")\n",
    "analysts"
   ]
  },
  {
   "cell_type": "code",
   "execution_count": 54,
   "id": "e0551438",
   "metadata": {},
   "outputs": [
    {
     "name": "stdout",
     "output_type": "stream",
     "text": [
      "Name: Dr. Rachel Kim\n",
      "Role: AI Researcher\n",
      "Affiliation: Stanford University\n",
      "Description: Expert in natural language processing and agent frameworks, focusing on the benefits of Langgraph's flexibility and customizability\n",
      "--------------------------------------------------\n",
      "Name: Dr. Liam Chen\n",
      "Role: Software Engineer\n",
      "Affiliation: Google\n",
      "Description: Specialist in developing scalable and efficient systems, concerned with the performance and reliability of Autogen versus Langgraph\n",
      "--------------------------------------------------\n",
      "Name: Dr. Ava Moreno\n",
      "Role: Cognitive Scientist\n",
      "Affiliation: MIT\n",
      "Description: Researcher in human-computer interaction and decision-making, interested in the potential of Langgraph to enhance user experience and decision-support\n",
      "--------------------------------------------------\n",
      "Name: Dr. Julian Lee\n",
      "Role: Tech Consultant\n",
      "Affiliation: Deloitte\n",
      "Description: Advisor on technology adoption and integration, motivated by the cost-benefit analysis and return on investment of adopting Langgraph over Autogen\n",
      "--------------------------------------------------\n"
     ]
    }
   ],
   "source": [
    "for analyst in analysts:\n",
    "    print(f\"Name: {analyst.name}\")\n",
    "    print(f\"Role: {analyst.role}\")\n",
    "    print(f\"Affiliation: {analyst.affiliation}\")\n",
    "    print(f\"Description: {analyst.description}\")\n",
    "    print(\"-\" * 50)"
   ]
  },
  {
   "cell_type": "code",
   "execution_count": 55,
   "id": "1066220b",
   "metadata": {},
   "outputs": [],
   "source": [
    "from langgraph.graph import StateGraph, START, END\n",
    "from langchain_core.messages import HumanMessage, AIMessage, SystemMessage\n",
    "from langgraph.checkpoint.memory import MemorySaver"
   ]
  },
  {
   "cell_type": "code",
   "execution_count": 56,
   "id": "1aadbf9a",
   "metadata": {},
   "outputs": [],
   "source": [
    "from langchain_community.document_loaders import WikipediaLoader\n",
    "\n",
    "# docs = WikipediaLoader(query=\"LangGraph\").load()\n",
    "# print(docs[0].page_content[:500])"
   ]
  },
  {
   "cell_type": "code",
   "execution_count": 57,
   "id": "f5f69bdd",
   "metadata": {},
   "outputs": [
    {
     "name": "stdout",
     "output_type": "stream",
     "text": [
      "Cloud computing is \"a paradigm for enabling network access to a scalable and elastic pool of shareable physical or virtual resources with self-service provisioning and administration on-demand,\" according to ISO. It is commonly referred to as \"the cloud\".\n",
      "\n",
      "\n",
      "== Characteristics ==\n",
      "In 2011, the National Institute of Standards and Technology (NIST) identified five \"essential characteristics\" for cloud systems. Below are the exact definitions according to NIST:\n",
      "\n",
      "On-demand self-service: \"A consumer ca\n"
     ]
    }
   ],
   "source": [
    "docs = WikipediaLoader(query=\"The benefits of adopting AWS cloud\").load()\n",
    "print(docs[0].page_content[:500])"
   ]
  },
  {
   "cell_type": "code",
   "execution_count": 58,
   "id": "db681be3",
   "metadata": {},
   "outputs": [
    {
     "name": "stdout",
     "output_type": "stream",
     "text": [
      "Page: Semantic Web\n",
      "Summary: The Semantic Web, sometimes known as Web 3.0, is an extension of the World Wide Web through standards set by the World Wide Web Consortium (W3C). The goal of the Semantic Web is to make Internet data machine-readable.\n",
      "To enable the encoding of semantics with the data, technologies such as Resource Description Framework (RDF) and Web Ontology Language (OWL) are used. These technologies are used to formally represent metadata. For example, ontology can describe concepts, relationships between entities, and categories of things. These embedded semantics offer significant advantages such as reasoning over data and operating with heterogeneous data sources.\n",
      "These standards promote common data formats and exchange protocols on the Web, fundamentally the RDF. According to the W3C, \"The Semantic Web provides a common framework that allows data to be shared and reused across application, enterprise, and community boundaries.\" The Semantic Web is therefore regarded as an integrator across different content and information applications and systems.\n",
      "\n",
      "\n",
      "\n",
      "Page: React (software)\n",
      "Summary: React (also known as React.js or ReactJS) is a free and open-source front-end JavaScript library that aims to make building user interfaces based on components more \"seamless\". It is maintained by Meta (formerly Facebook) and a community of individual developers and companies. According to the Stack Overflow Developer Survey, React is one of the most commonly used web technologies.\n",
      "React can be used to develop single-page, mobile, or server-rendered applications with frameworks like Next.js and React Router. Because React is only concerned with the user interface and rendering components to the DOM, React applications often rely on libraries for routing and other client-side functionality. A key advantage of React is that it only re-renders those parts of the page that have changed, avoiding unnecessary re-rendering of unchanged DOM elements. React is used by an estimated 6% of all websites.\n",
      "\n",
      "Page: Deep learning\n",
      "Summary: In machine learning, deep learning focuses on utilizing multilayered neural networks to perform tasks such as classification, regression, and representation learning. The field takes inspiration from biological neuroscience and is centered around stacking artificial neurons into layers and \"training\" them to process data. The adjective \"deep\" refers to the use of multiple layers (ranging from three to several hundred or thousands) in the network. Methods used can be supervised, semi-supervised or unsupervised.\n",
      "Some common deep learning network architectures include fully connected networks, deep belief networks, recurrent neural networks, convolutional neural networks, generative adversarial networks, transformers, and neural radiance fields. These architectures have been applied to fields including computer vision, speech recognition, natural language processing, machine translation, bioinformatics, drug design, medical image analysis, climate science, material inspection and board game programs, where they have produced results comparable to and in some cases surpassing human expert performance.\n",
      "Early forms of neural networks were inspired by information processing and distributed communication nodes in biological systems, particularly the human brain. However, current neural networks do not intend to model the brain function of organisms, and are generally seen as low-quality models for that purpose.\n"
     ]
    }
   ],
   "source": [
    "from langchain_community.utilities import WikipediaAPIWrapper\n",
    "wiki = WikipediaAPIWrapper(doc_content_chars_max=4000)\n",
    "docs = wiki.run(\"The benefits of adopting LangGraph as an agentic framework\")\n",
    "print(docs)"
   ]
  },
  {
   "cell_type": "code",
   "execution_count": 59,
   "id": "f9833957",
   "metadata": {},
   "outputs": [],
   "source": [
    "from langgraph.graph import StateGraph, START, END\n",
    "from langchain_core.messages import HumanMessage, AIMessage, SystemMessage\n",
    "from langgraph.checkpoint.memory import MemorySaver"
   ]
  },
  {
   "cell_type": "code",
   "execution_count": null,
   "id": "c8f24c9d",
   "metadata": {},
   "outputs": [],
   "source": []
  },
  {
   "cell_type": "markdown",
   "id": "8241e5ef",
   "metadata": {},
   "source": [
    "#### Second Workflow"
   ]
  },
  {
   "cell_type": "code",
   "execution_count": 60,
   "id": "66a163e3",
   "metadata": {},
   "outputs": [],
   "source": [
    "from langchain_community.tools.tavily_search import TavilySearchResults"
   ]
  },
  {
   "cell_type": "code",
   "execution_count": 61,
   "id": "8d7fb97f",
   "metadata": {},
   "outputs": [],
   "source": [
    "from dotenv import load_dotenv\n",
    "load_dotenv()  # take environment variables from .env.\n",
    "import os\n",
    "tavily_api_key = os.getenv(\"TAVILY_API_KEY\")"
   ]
  },
  {
   "cell_type": "code",
   "execution_count": 62,
   "id": "ec38e14c",
   "metadata": {},
   "outputs": [
    {
     "data": {
      "text/plain": [
       "[{'title': 'Learn LangGraph basics - Overview',\n",
       "  'url': 'https://langchain-ai.github.io/langgraph/concepts/why-langgraph/',\n",
       "  'content': 'Trusted by companies shaping the future of agents— including Klarna, Replit, Elastic, and more— LangGraph is a low-level orchestration framework and runtime for building, managing, and deploying long-running, stateful agents.\\nLangGraph is very low-level, and focused entirely on agent orchestration. Before using LangGraph, we recommend you familiarize yourself with some of the components used to build agents, starting with models and tools.',\n",
       "  'score': 0.9310187},\n",
       " {'title': 'LangGraph Overview - Docs by LangChain',\n",
       "  'url': 'https://docs.langchain.com/oss/python/langgraph/overview',\n",
       "  'content': 'Trusted by companies shaping the future of agents - including Klarna, Replit, Elastic, and more - LangGraph is a low-level orchestration framework for building, managing, and deploying long-running, stateful agents.LangGraph is very low-level, and focused entirely on agent orchestration. Before using LangGraph, it is recommended you familiarize yourself with some of the components used to build agents, starting with models and tools. We will commonly use LangChain components throughout the',\n",
       "  'score': 0.92684203},\n",
       " {'title': 'LangGraph: A Framework for Building Stateful Multi-Agent LLM ...',\n",
       "  'url': 'https://medium.com/@ken_lin/langgraph-a-framework-for-building-stateful-multi-agent-llm-applications-a51d5eb68d03',\n",
       "  'content': '> LangGraph is a powerful Python library designed for constructing stateful, multi-actor applications with Large Language Models (LLMs). It extends the capabilities of LangChain Expression Language (LCEL) while specifically addressing limitations in existing frameworks for agent development. As a specialized tool for creating complex LLM applications, LangGraph provides a structured approach to building sophisticated workflows that require cyclical processing patterns. [...] LangGraph represents a significant advancement in the toolkit available for developing sophisticated LLM applications, particularly those involving agent-like behaviors and multi-agent coordination. By extending LangChain with support for cyclical workflows and robust state management, it addresses key limitations of earlier approaches and enables new possibilities for AI systems that can reason, act, and interact in more complex ways. [...] LangGraph is built on top of and intended to be used with LangChain, extending the LangChain Expression Language with capabilities to coordinate multiple chains or actors across computational steps in a cyclic manner. The library is inspired by graph processing frameworks like Pregel and Apache Beam, offering an interface similar to NetworkX for building complex agent systems. Unlike purely Directed Acyclic Graph (DAG) frameworks, LangGraph’s main distinctive feature is its support for cycles,',\n",
       "  'score': 0.9257218},\n",
       " {'title': 'What is LangGraph? - Analytics Vidhya',\n",
       "  'url': 'https://www.analyticsvidhya.com/blog/2024/07/langgraph-revolutionizing-ai-agent/',\n",
       "  'content': 'To sum up, LangGraph is a major advancement in the development of AI agents. It enables developers to push the limits of what’s possible with AI agents by eliminating the shortcomings of earlier systems and offering a flexible, graph-based framework for agent construction and execution. LangGraph is positioned to influence the direction of artificial intelligence significantly in the future. [...] LangGraph is a library built on top of Langchain that is designed to facilitate the creation of cyclic graphs for large language model (LLM) – based AI agents.\\n It views agent Objective Points about LangGraph and workflows as cyclic graph topologies, allowing for more variable and nuanced agent behaviors than linear execution models. [...] Frameworks such as LangGraph are becoming increasingly important as AI develops. LangGraph is making the next generation of AI applications possible by offering a versatile and strong framework for developing and overseeing AI agents.',\n",
       "  'score': 0.92005306},\n",
       " {'title': 'LangGraph Tutorial: What Is LangGraph and How to Use It?',\n",
       "  'url': 'https://www.datacamp.com/tutorial/langgraph-tutorial',\n",
       "  'content': \"LangGraph is a library within the LangChain ecosystem designed to tackle these challenges head-on. LangGraph provides a framework for defining, coordinating, and executing multiple LLM agents (or chains) in a structured manner.\\n\\nIt simplifies the development process by enabling the creation of cyclical graphs, which are essential for developing agent runtimes. With LangGraph, we can easily build robust, scalable, and flexible multi-agent systems. [...] For applications requiring autonomous decision-making, LangGraph enables the creation of agents that can perform tasks independently based on user inputs and predefined logic.\\n\\nThese agents can execute complex workflows, interact with other systems, and adapt to new information dynamically. LangGraph's structured framework ensures that each agent operates efficiently and effectively, making it suitable for tasks like automated customer support, data processing, and system monitoring. [...] In educational platforms, LangGraph can be used to create adaptive learning environments that cater to individual learning styles and needs. Multiple agents can assess a student's progress, provide customized exercises, and offer real-time feedback. The stateful nature of LangGraph ensures that the system retains information about each learner's performance and preferences, enabling a more personalized and effective educational experience.\\n\\nConclusion\",\n",
       "  'score': 0.9183121}]"
      ]
     },
     "execution_count": 62,
     "metadata": {},
     "output_type": "execute_result"
    }
   ],
   "source": [
    "tavily_search = TavilySearchResults(tavily_api_key=tavily_api_key)\n",
    "tavily_search.invoke(\"langgraph\")"
   ]
  },
  {
   "cell_type": "code",
   "execution_count": 11,
   "id": "0dd6d8d8",
   "metadata": {},
   "outputs": [],
   "source": [
    "from langchain_community.document_loaders import WikipediaLoader\n"
   ]
  },
  {
   "cell_type": "code",
   "execution_count": 6,
   "id": "2b620b88",
   "metadata": {},
   "outputs": [
    {
     "name": "stdout",
     "output_type": "stream",
     "text": [
      "LangChain is a software framework that helps facilitate the integration of large language models (LLMs) into applications. As a language model integration framework, LangChain's use-cases largely over\n"
     ]
    }
   ],
   "source": [
    "docs = WikipediaLoader(query=\"LangGraph\").load()\n",
    "print(docs[0].page_content[:200])"
   ]
  },
  {
   "cell_type": "code",
   "execution_count": 12,
   "id": "6691c6a3",
   "metadata": {},
   "outputs": [],
   "source": [
    "from typing import Annotated, List\n",
    "import operator\n",
    "from typing_extensions import TypedDict\n",
    "from pydantic import BaseModel, Field"
   ]
  },
  {
   "cell_type": "code",
   "execution_count": 17,
   "id": "e7cdd540",
   "metadata": {},
   "outputs": [],
   "source": [
    "import operator\n",
    "from typing import  Annotated\n",
    "from langgraph.graph import MessagesState\n",
    "class InterviewState(MessagesState):\n",
    "    \"\"\" \n",
    "    \"\"\"\n",
    "    max_num_turn: int\n",
    "    context: Annotated[list, operator.add]\n",
    "    analyst: Analyst\n",
    "    interview: str\n",
    "    sections: list\n",
    "\n",
    "class SearchQuery(BaseModel):\n",
    "    \"\"\"_summary_\n",
    "    \"\"\"\n",
    "    search_query: str = Field(None, description=\"Search query for retrieval.\")\n",
    "\n",
    "    "
   ]
  },
  {
   "cell_type": "code",
   "execution_count": 63,
   "id": "716d5ac3",
   "metadata": {},
   "outputs": [],
   "source": [
    "state = {\"max_num_turns\":2, \"context\":[], \"analyst\":analyst, \"interview\":\"\",\"section\":\"\"}"
   ]
  },
  {
   "cell_type": "code",
   "execution_count": 64,
   "id": "6f31d6f2",
   "metadata": {},
   "outputs": [
    {
     "data": {
      "text/plain": [
       "{'max_num_turns': 2,\n",
       " 'context': [],\n",
       " 'analyst': Analyst(name='Dr. Julian Lee', role='Tech Consultant', affiliation='Deloitte', description='Advisor on technology adoption and integration, motivated by the cost-benefit analysis and return on investment of adopting Langgraph over Autogen'),\n",
       " 'interview': '',\n",
       " 'section': ''}"
      ]
     },
     "execution_count": 64,
     "metadata": {},
     "output_type": "execute_result"
    }
   ],
   "source": [
    "state"
   ]
  },
  {
   "cell_type": "code",
   "execution_count": 65,
   "id": "a62801a7",
   "metadata": {},
   "outputs": [],
   "source": [
    "question_instructions = \"\"\"You are an analyst tasked with interviewing an expert to learn about a specific topic. \n",
    "\n",
    "Your goal is boil down to interesting and specific insights related to your topic.\n",
    "\n",
    "1. Interesting: Insights that people will find surprising or non-obvious.\n",
    "        \n",
    "2. Specific: Insights that avoid generalities and include specific examples from the expert.\n",
    "\n",
    "Here is your topic of focus and set of goals: {goals}\n",
    "        \n",
    "Begin by introducing yourself using a name that fits your persona, and then ask your question.\n",
    "\n",
    "Continue to ask questions to drill down and refine your understanding of the topic.\n",
    "        \n",
    "When you are satisfied with your understanding, complete the interview with: \"Thank you so much for your help!\"\n",
    "\n",
    "Remember to stay in character throughout your response, reflecting the persona and goals provided to you.\"\"\""
   ]
  },
  {
   "cell_type": "code",
   "execution_count": 66,
   "id": "e6921117",
   "metadata": {},
   "outputs": [
    {
     "name": "stdout",
     "output_type": "stream",
     "text": [
      "Name: Dr. Julian Lee\n",
      "Role: Tech Consultant\n",
      "Affiliation: Deloitte\n",
      "Description: Advisor on technology adoption and integration, motivated by the cost-benefit analysis and return on investment of adopting Langgraph over Autogen\n",
      "\n"
     ]
    }
   ],
   "source": [
    "print(analyst.persona)"
   ]
  },
  {
   "cell_type": "code",
   "execution_count": 67,
   "id": "275d9909",
   "metadata": {},
   "outputs": [
    {
     "data": {
      "text/plain": [
       "'You are an analyst tasked with interviewing an expert to learn about a specific topic. \\n\\nYour goal is boil down to interesting and specific insights related to your topic.\\n\\n1. Interesting: Insights that people will find surprising or non-obvious.\\n\\n2. Specific: Insights that avoid generalities and include specific examples from the expert.\\n\\nHere is your topic of focus and set of goals: Name: Dr. Julian Lee\\nRole: Tech Consultant\\nAffiliation: Deloitte\\nDescription: Advisor on technology adoption and integration, motivated by the cost-benefit analysis and return on investment of adopting Langgraph over Autogen\\n\\n\\nBegin by introducing yourself using a name that fits your persona, and then ask your question.\\n\\nContinue to ask questions to drill down and refine your understanding of the topic.\\n\\nWhen you are satisfied with your understanding, complete the interview with: \"Thank you so much for your help!\"\\n\\nRemember to stay in character throughout your response, reflecting the persona and goals provided to you.'"
      ]
     },
     "execution_count": 67,
     "metadata": {},
     "output_type": "execute_result"
    }
   ],
   "source": [
    "question_instructions.format(goals = analyst.persona)"
   ]
  },
  {
   "cell_type": "code",
   "execution_count": 68,
   "id": "ff328d39",
   "metadata": {},
   "outputs": [],
   "source": [
    "def generate_question(state:InterviewState):\n",
    "    \"\"\"Node to generate the questions\"\"\"\n",
    "    # get state\n",
    "    analyst = state[\"analyst\"]\n",
    "    messages = state[\"messages\"]\n",
    "\n",
    "    # generate the question\n",
    "    system_message = question_instructions.format(goals = analyst.persona)\n",
    "    question = llm.invoke([SystemMessage(content=system_message)] + messages)\n",
    "\n",
    "    # return the question through state\n",
    "    return {\"messages\": [question]}"
   ]
  },
  {
   "cell_type": "code",
   "execution_count": 69,
   "id": "3b6cfb9a",
   "metadata": {},
   "outputs": [],
   "source": [
    "interview_builder = StateGraph(InterviewState)"
   ]
  },
  {
   "cell_type": "code",
   "execution_count": 70,
   "id": "d52a6071",
   "metadata": {},
   "outputs": [],
   "source": [
    "from langchain_core.messages import get_buffer_string"
   ]
  },
  {
   "cell_type": "code",
   "execution_count": 71,
   "id": "b87af106",
   "metadata": {},
   "outputs": [],
   "source": [
    "# Search query writing\n",
    "search_instructions = SystemMessage(content=f\"\"\"You will be given a conversation between an analyst and an expert. \n",
    "Your goal is to generate a well-structured query for use in retrieval and / or web-search related to the conversation. \n",
    "First, analyze the full conversation.\n",
    "Pay particular attention to the final question posed by the analyst.\n",
    "Convert this final question into a well-structured web search query\"\"\")\n"
   ]
  },
  {
   "cell_type": "code",
   "execution_count": null,
   "id": "9c03f369",
   "metadata": {},
   "outputs": [],
   "source": [
    "def ask_question(state:InterviewState):\n",
    "    \"\"\"_summary_\n",
    "\n",
    "    Args:\n",
    "        state (InterviewState): _description_\n",
    "    \"\"\"\n",
    "    pass"
   ]
  },
  {
   "cell_type": "code",
   "execution_count": 72,
   "id": "65e2967b",
   "metadata": {},
   "outputs": [],
   "source": [
    "def search_web(state:InterviewState):\n",
    "    \"\"\"\n",
    "    Retrieve data from the web.\n",
    "    \"\"\"\n",
    "    structure_llm = llm.with_structured_output(SearchQuery)\n",
    "    search_query = structure_llm.invoke([search_instructions]+[\"messages\"])\n",
    "\n",
    "    # Search\n",
    "    search_docs = tavily_search.invoke(search_query.search_query)\n",
    "\n",
    "    # Format\n",
    "    formatted_search_docs = \"\\n\\n---\\n\\n\".join(\n",
    "        {\n",
    "            f'<Document href=\"{doc[\"url\"]}\"/>\\n{doc[\"content\"]}\\n</Document>'\n",
    "            for doc in search_docs\n",
    "        }\n",
    "    )\n",
    "\n",
    "    return {\"context\": [formatted_search_docs]}"
   ]
  },
  {
   "cell_type": "code",
   "execution_count": 73,
   "id": "1dfd1839",
   "metadata": {},
   "outputs": [],
   "source": [
    "def search_wikipedia(state:InterviewState):\n",
    "    \"\"\"Retrieve data from wikipedia\"\"\"\n",
    "    \n",
    "    # Search query\n",
    "    structured_llm = llm.with_structured_output(SearchQuery)\n",
    "    search_query = structured_llm.invoke([search_instructions]+state[\"messages\"])\n",
    "\n",
    "    print(\"*\" * 50)\n",
    "    print(search_query)\n",
    "    # Search\n",
    "    search_docs = WikipediaLoader(query=search_query.search_query,\n",
    "                                  load_max_docs=2).load()\n",
    "    \n",
    "    # Format\n",
    "    formatted_search_docs = \"\\n\\n---\\n\\n\".join(\n",
    "        {\n",
    "            f'<Document source=\"{doc.metadata[\"source\"]}\" page=\"{doc.metadata.get(\"page\", \"\")}\"/>\\n{doc.page_content}\\n</Document>'\n",
    "            for doc in search_docs\n",
    "        }\n",
    "    )\n",
    "\n",
    "    return {\"context\": [formatted_search_docs]}"
   ]
  },
  {
   "cell_type": "code",
   "execution_count": 74,
   "id": "5d0a9040",
   "metadata": {},
   "outputs": [],
   "source": [
    "answer_instructions = \"\"\"You are an expert being interviewed by an analyst.\n",
    "\n",
    "Here is analyst area of focus: {goals}. \n",
    "        \n",
    "You goal is to answer a question posed by the interviewer.\n",
    "\n",
    "To answer question, use this context:\n",
    "        \n",
    "{context}\n",
    "\n",
    "When answering questions, follow these guidelines:\n",
    "        \n",
    "1. Use only the information provided in the context. \n",
    "        \n",
    "2. Do not introduce external information or make assumptions beyond what is explicitly stated in the context.\n",
    "\n",
    "3. The context contain sources at the topic of each individual document.\n",
    "\n",
    "4. Include these sources your answer next to any relevant statements. For example, for source # 1 use [1]. \n",
    "\n",
    "5. List your sources in order at the bottom of your answer. [1] Source 1, [2] Source 2, etc\n",
    "        \n",
    "6. If the source is: <Document source=\"assistant/docs/llama3_1.pdf\" page=\"7\"/>' then just list: \n",
    "        \n",
    "[1] assistant/docs/llama3_1.pdf, page 7 \n",
    "        \n",
    "And skip the addition of the brackets as well as the Document source preamble in your citation.\"\"\""
   ]
  },
  {
   "cell_type": "code",
   "execution_count": 75,
   "id": "9b338ed8",
   "metadata": {},
   "outputs": [],
   "source": [
    "def generate_answer(state:InterviewState):\n",
    "    \"\"\"\n",
    "    Node to answer a question\n",
    "    \"\"\"\n",
    "    # Get state\n",
    "    analyst = state[\"analyst\"]\n",
    "    messages = state[\"messages\"]\n",
    "    context = state[\"context\"]\n",
    "\n",
    "    # Answer question\n",
    "    system_message = answer_instructions.format(goals = analyst.persona, context=context)\n",
    "    answer = llm.invoke([SystemMessage(content=system_message)] + messages)\n",
    "\n",
    "    # Name the message as coming from the expert\n",
    "    answer.name = \"expert\"\n",
    "\n",
    "    # Append it to the state\n",
    "    return {\"messages\": [answer]}"
   ]
  },
  {
   "cell_type": "code",
   "execution_count": 76,
   "id": "6ca33f82",
   "metadata": {},
   "outputs": [],
   "source": [
    "def router_message(state:InterviewState, name: str = \"expert\"):\n",
    "    \"\"\"\n",
    "    Router between question and answer.\n",
    "    \"\"\"\n",
    "    # Get messages\n",
    "    messages = state[\"messages\"]\n",
    "    max_num_turns = state.get(\"max_num_turns\", 2)\n",
    "\n",
    "    # Check the number of expert answers\n",
    "    num_responses = len(\n",
    "        [m for m in messages if isinstance(m, AIMessage) and m.name == name]\n",
    "    )\n",
    "\n",
    "    # end if expert has answered more than the max turns\n",
    "    if num_responses >= max_num_turns:\n",
    "        return \"save_interview\"\n",
    "    \n",
    "    # This router is run after each question - answer pair\n",
    "    # Get the last question ased to check if it is the end of the discussion\n",
    "    last_question = messages[-2]\n",
    "\n",
    "    if \"Thank you so much for your help\" in last_question.content:\n",
    "        return 'save_interview'\n",
    "    \n",
    "    return \"ask_question\""
   ]
  },
  {
   "cell_type": "code",
   "execution_count": 77,
   "id": "d13bdd43",
   "metadata": {},
   "outputs": [],
   "source": [
    "def save_interview(state:InterviewState):\n",
    "    \"\"\"\n",
    "    Save interview\n",
    "    \"\"\"\n",
    "    # Get messages\n",
    "    messages = state[\"messages\"]\n",
    "\n",
    "    # Cnvert interview to a string\n",
    "    interview = get_buffer_string(messages)\n",
    "\n",
    "    # Save to interviews key\n",
    "    return {\"interview\": interview}"
   ]
  },
  {
   "cell_type": "code",
   "execution_count": 78,
   "id": "829a4fbf",
   "metadata": {},
   "outputs": [],
   "source": [
    "section_writer_instructions = \"\"\"You are an expert technical writer. \n",
    "            \n",
    "Your task is to create a short, easily digestible section of a report based on a set of source documents.\n",
    "\n",
    "1. Analyze the content of the source documents: \n",
    "- The name of each source document is at the start of the document, with the <Document tag.\n",
    "        \n",
    "2. Create a report structure using markdown formatting:\n",
    "- Use ## for the section title\n",
    "- Use ### for sub-section headers\n",
    "        \n",
    "3. Write the report following this structure:\n",
    "a. Title (## header)\n",
    "b. Summary (### header)\n",
    "c. Sources (### header)\n",
    "\n",
    "4. Make your title engaging based upon the focus area of the analyst: \n",
    "{focus}\n",
    "\n",
    "5. For the summary section:\n",
    "- Set up summary with general background / context related to the focus area of the analyst\n",
    "- Emphasize what is novel, interesting, or surprising about insights gathered from the interview\n",
    "- Create a numbered list of source documents, as you use them\n",
    "- Do not mention the names of interviewers or experts\n",
    "- Aim for approximately 400 words maximum\n",
    "- Use numbered sources in your report (e.g., [1], [2]) based on information from source documents\n",
    "        \n",
    "6. In the Sources section:\n",
    "- Include all sources used in your report\n",
    "- Provide full links to relevant websites or specific document paths\n",
    "- Separate each source by a newline. Use two spaces at the end of each line to create a newline in Markdown.\n",
    "- It will look like:\n",
    "\n",
    "### Sources\n",
    "[1] Link or Document name\n",
    "[2] Link or Document name\n",
    "\n",
    "7. Be sure to combine sources. For example this is not correct:\n",
    "\n",
    "[3] https://ai.meta.com/blog/meta-llama-3-1/\n",
    "[4] https://ai.meta.com/blog/meta-llama-3-1/\n",
    "\n",
    "There should be no redundant sources. It should simply be:\n",
    "\n",
    "[3] https://ai.meta.com/blog/meta-llama-3-1/\n",
    "        \n",
    "8. Final review:\n",
    "- Ensure the report follows the required structure\n",
    "- Include no preamble before the title of the report\n",
    "- Check that all guidelines have been followed\"\"\""
   ]
  },
  {
   "cell_type": "code",
   "execution_count": 79,
   "id": "e28c8af2",
   "metadata": {},
   "outputs": [],
   "source": [
    "def write_section(state:InterviewState):\n",
    "    \"\"\"\n",
    "    Node to answer a question\n",
    "    \"\"\"\n",
    "    # Get state\n",
    "    interview = state[\"interview\"]\n",
    "    context = state[\"context\"]\n",
    "    analyst = state[\"analyst\"]\n",
    "\n",
    "    # Write section using either the gathered source docs from interview (context) or the interview itself (interview)\n",
    "    system_message = section_writer_instructions.format(focus = analyst.description)\n",
    "    section = llm.invoke([SystemMessage(content=system_message)] +\n",
    "                          [HumanMessage(content=f\"Use this source to write your section: {context}\")])\n",
    "    \n",
    "    # Append it to state\n",
    "    return {\"sections\": [section.content]}"
   ]
  },
  {
   "cell_type": "code",
   "execution_count": 80,
   "id": "30f5bfbd",
   "metadata": {},
   "outputs": [
    {
     "data": {
      "text/plain": [
       "<langgraph.graph.state.StateGraph at 0x22b783298d0>"
      ]
     },
     "execution_count": 80,
     "metadata": {},
     "output_type": "execute_result"
    }
   ],
   "source": [
    "interview_builder.add_node(\"ask_question\", generate_question)\n",
    "interview_builder.add_node(\"search_web\", search_web)\n",
    "interview_builder.add_node(\"search_wikipedia\", search_wikipedia)\n",
    "interview_builder.add_node(\"generate_answer\", generate_answer)\n",
    "interview_builder.add_node(\"save_interview\", save_interview)\n",
    "interview_builder.add_node(\"write_section\", write_section)"
   ]
  },
  {
   "cell_type": "code",
   "execution_count": 81,
   "id": "eace526c",
   "metadata": {},
   "outputs": [
    {
     "data": {
      "text/plain": [
       "<langgraph.graph.state.StateGraph at 0x22b783298d0>"
      ]
     },
     "execution_count": 81,
     "metadata": {},
     "output_type": "execute_result"
    }
   ],
   "source": [
    "interview_builder.add_edge(START, \"ask_question\")\n",
    "interview_builder.add_edge(\"ask_question\", \"search_web\")\n",
    "interview_builder.add_edge(\"ask_question\", \"search_wikipedia\")\n",
    "interview_builder.add_edge(\"search_web\", \"generate_answer\")\n",
    "interview_builder.add_edge(\"search_wikipedia\", \"generate_answer\")\n",
    "interview_builder.add_conditional_edges(\"generate_answer\",\n",
    "                           router_message,\n",
    "                           [\"ask_question\",\n",
    "                            \"save_interview\"])\n",
    "interview_builder.add_edge(\"save_interview\", \"write_section\")\n",
    "interview_builder.add_edge(\"write_section\", END)"
   ]
  },
  {
   "cell_type": "code",
   "execution_count": 82,
   "id": "b23577bf",
   "metadata": {},
   "outputs": [],
   "source": [
    "memory = MemorySaver()\n",
    "interview_graph = interview_builder.compile(checkpointer=memory).with_config(run_name = \"Conduct Interview\")"
   ]
  },
  {
   "cell_type": "code",
   "execution_count": 83,
   "id": "93d369ac",
   "metadata": {},
   "outputs": [],
   "source": [
    "from IPython.display import display, Markdown, Image"
   ]
  },
  {
   "cell_type": "code",
   "execution_count": 84,
   "id": "91dd887f",
   "metadata": {},
   "outputs": [
    {
     "data": {
      "image/png": "[encoded data removed]",
      "text/plain": [
       "<IPython.core.display.Image object>"
      ]
     },
     "metadata": {},
     "output_type": "display_data"
    }
   ],
   "source": [
    "display(Image(interview_graph.get_graph().draw_mermaid_png()))"
   ]
  },
  {
   "cell_type": "code",
   "execution_count": 85,
   "id": "9383fcd5",
   "metadata": {},
   "outputs": [
    {
     "data": {
      "text/plain": [
       "Analyst(name='Dr. Julian Lee', role='Tech Consultant', affiliation='Deloitte', description='Advisor on technology adoption and integration, motivated by the cost-benefit analysis and return on investment of adopting Langgraph over Autogen')"
      ]
     },
     "execution_count": 85,
     "metadata": {},
     "output_type": "execute_result"
    }
   ],
   "source": [
    "analyst"
   ]
  },
  {
   "cell_type": "code",
   "execution_count": 107,
   "id": "17fd570d",
   "metadata": {},
   "outputs": [],
   "source": [
    "messages = [HumanMessage(\"So you said you were writing an article on langgraph?\")]"
   ]
  },
  {
   "cell_type": "code",
   "execution_count": 108,
   "id": "5a20c557",
   "metadata": {},
   "outputs": [],
   "source": [
    "thread = {\"configurable\": {\"thread_id\": \"1\"}}"
   ]
  },
  {
   "cell_type": "code",
   "execution_count": 109,
   "id": "6c61caab",
   "metadata": {},
   "outputs": [
    {
     "name": "stderr",
     "output_type": "stream",
     "text": [
      "HTTP Request: POST https://api.groq.com/openai/v1/chat/completions \"HTTP/1.1 200 OK\"\n",
      "HTTP Request: POST https://api.groq.com/openai/v1/chat/completions \"HTTP/1.1 200 OK\"\n",
      "HTTP Request: POST https://api.groq.com/openai/v1/chat/completions \"HTTP/1.1 200 OK\"\n"
     ]
    },
    {
     "name": "stdout",
     "output_type": "stream",
     "text": [
      "**************************************************\n",
      "search_query='Langgraph vs Autogen cost-benefit analysis in technology adoption and integration'\n"
     ]
    },
    {
     "name": "stderr",
     "output_type": "stream",
     "text": [
      "HTTP Request: POST https://api.groq.com/openai/v1/chat/completions \"HTTP/1.1 200 OK\"\n",
      "HTTP Request: POST https://api.groq.com/openai/v1/chat/completions \"HTTP/1.1 429 Too Many Requests\"\n",
      "Retrying request to /openai/v1/chat/completions in 1.000000 seconds\n",
      "HTTP Request: POST https://api.groq.com/openai/v1/chat/completions \"HTTP/1.1 200 OK\"\n"
     ]
    }
   ],
   "source": [
    "interview = interview_graph.invoke({\"analyst\": analyst, \"messages\": messages, \"max_num_turn\": 2}, thread)"
   ]
  },
  {
   "cell_type": "code",
   "execution_count": 110,
   "id": "c15abdbb",
   "metadata": {},
   "outputs": [
    {
     "data": {
      "text/markdown": [
       "## Understanding Messages in Communication\n",
       "### Summary\n",
       "Effective communication is crucial in various aspects of life, and understanding the concept of messages is essential in conveying information from a sender to a receiver. A message can be defined as a unit of communication that conveys information, and it can be transmitted through various forms such as spoken or written words, signals, or electronic data [1]. According to sources, messages can be categorized into primary, secondary, and auxiliary, with primary messages referring to the intentional content, both verbal and nonverbal [2]. Secondary messages, on the other hand, refer to the unintentional content, which can be influenced by factors such as physical attractiveness, age, gender, or ethnicity [2]. \n",
       "\n",
       "Here are some key sources that provide insights into the concept of messages:\n",
       "1. [https://courses.lumenlearning.com/suny-hccc-businesscommunication/chapter/messages/](https://courses.lumenlearning.com/suny-hccc-businesscommunication/chapter/messages/)\n",
       "2. [https://en.wikipedia.org/wiki/Message](https://en.wikipedia.org/wiki/Message)\n",
       "3. [https://www.collinsdictionary.com/us/dictionary/english/message](https://www.collinsdictionary.com/us/dictionary/english/message)\n",
       "4. [https://www.dictionary.com/browse/message](https://www.dictionary.com/browse/message)\n",
       "5. [https://www.merriam-webster.com/dictionary/message](https://www.merriam-webster.com/dictionary/message)\n",
       "\n",
       "Messages can be verbal or nonverbal, with verbal messages being exchanges of information using words, and nonverbal messages being communicated through actions or behaviors [1]. The structure of a message can be divided into five parts: attention statement, introduction, body, conclusion, and residual message [2]. Understanding the different types of messages and their structures is vital in effective communication, as it enables individuals to convey their intended meaning and avoid misinterpretation.\n",
       "\n",
       "### Sources\n",
       "[1] https://en.wikipedia.org/wiki/Message  \n",
       "[2] https://courses.lumenlearning.com/suny-hccc-businesscommunication/chapter/messages/  \n",
       "[3] https://www.collinsdictionary.com/us/dictionary/english/message  \n",
       "[4] https://www.dictionary.com/browse/message  \n",
       "[5] https://www.merriam-webster.com/dictionary/message"
      ],
      "text/plain": [
       "<IPython.core.display.Markdown object>"
      ]
     },
     "execution_count": 110,
     "metadata": {},
     "output_type": "execute_result"
    }
   ],
   "source": [
    "Markdown(interview['sections'][0])"
   ]
  },
  {
   "cell_type": "code",
   "execution_count": 89,
   "id": "ebfa31c7",
   "metadata": {},
   "outputs": [],
   "source": [
    "state = {\"max_num_turns\":2, \"context\":[], \"analyst\":analyst, \"interview\":\"\",\"section\":[],\"messages\":[HumanMessage(content=\"Hi do proper search according to the expertise\")]}"
   ]
  },
  {
   "cell_type": "code",
   "execution_count": 90,
   "id": "b99a81a1",
   "metadata": {},
   "outputs": [
    {
     "data": {
      "text/plain": [
       "{'max_num_turns': 2,\n",
       " 'context': [],\n",
       " 'analyst': Analyst(name='Dr. Julian Lee', role='Tech Consultant', affiliation='Deloitte', description='Advisor on technology adoption and integration, motivated by the cost-benefit analysis and return on investment of adopting Langgraph over Autogen'),\n",
       " 'interview': '',\n",
       " 'section': [],\n",
       " 'messages': [HumanMessage(content='Hi do proper search according to the expertise', additional_kwargs={}, response_metadata={})]}"
      ]
     },
     "execution_count": 90,
     "metadata": {},
     "output_type": "execute_result"
    }
   ],
   "source": [
    "state"
   ]
  },
  {
   "cell_type": "code",
   "execution_count": 91,
   "id": "07c895c5",
   "metadata": {},
   "outputs": [
    {
     "name": "stderr",
     "output_type": "stream",
     "text": [
      "HTTP Request: POST https://api.groq.com/openai/v1/chat/completions \"HTTP/1.1 200 OK\"\n"
     ]
    },
    {
     "data": {
      "text/plain": [
       "{'messages': [AIMessage(content=\"Hello, my name is Ethan Thompson, and I'm a technology analyst. I'm excited to be speaking with Dr. Julian Lee, a renowned tech consultant from Deloitte, today. Dr. Lee, thank you for taking the time to share your expertise with me.\\n\\nI understand that you have extensive experience in advising on technology adoption and integration, with a focus on cost-benefit analysis and return on investment. Specifically, I'm interested in learning more about your thoughts on Langgraph versus Autogen. Can you tell me, what are some key differences between these two technologies that make one more attractive than the other from a cost-benefit perspective?\", additional_kwargs={}, response_metadata={'token_usage': {'completion_tokens': 131, 'prompt_tokens': 238, 'total_tokens': 369, 'completion_time': 0.360430995, 'prompt_time': 0.021217212, 'queue_time': 0.087956456, 'total_time': 0.381648207}, 'model_name': 'llama-3.3-70b-versatile', 'system_fingerprint': 'fp_9e1e8f8435', 'service_tier': 'on_demand', 'finish_reason': 'stop', 'logprobs': None}, id='run--66f490b7-302e-47b6-9c73-51a186ccedec-0', usage_metadata={'input_tokens': 238, 'output_tokens': 131, 'total_tokens': 369})]}"
      ]
     },
     "execution_count": 91,
     "metadata": {},
     "output_type": "execute_result"
    }
   ],
   "source": [
    "generate_question(state)"
   ]
  },
  {
   "cell_type": "code",
   "execution_count": 92,
   "id": "45c77931",
   "metadata": {},
   "outputs": [
    {
     "name": "stderr",
     "output_type": "stream",
     "text": [
      "HTTP Request: POST https://api.groq.com/openai/v1/chat/completions \"HTTP/1.1 200 OK\"\n"
     ]
    }
   ],
   "source": [
    "result = generate_question(state)"
   ]
  },
  {
   "cell_type": "code",
   "execution_count": 93,
   "id": "962c54b7",
   "metadata": {},
   "outputs": [
    {
     "name": "stdout",
     "output_type": "stream",
     "text": [
      "Hello, my name is Ethan Kim, and I'm a technology analyst. I'm excited to be speaking with Dr. Julian Lee, a renowned tech consultant from Deloitte, today. Dr. Lee, thank you for taking the time to share your expertise with me.\n",
      "\n",
      "I'd like to dive right into the topic of Langgraph and Autogen, as I understand you've had extensive experience advising on the adoption and integration of these technologies. Can you tell me, what specific factors do you consider when evaluating the cost-benefit analysis of adopting Langgraph over Autogen, and how do you determine the return on investment for your clients?\n"
     ]
    }
   ],
   "source": [
    "print(result[\"messages\"][0].content)"
   ]
  },
  {
   "cell_type": "code",
   "execution_count": 94,
   "id": "feb7fb7a",
   "metadata": {},
   "outputs": [],
   "source": [
    "state = {\"max_num_turns\":2,\"context\":[],\"analyst\":analyst,\"interview\":\"\",\"section\":[],'messages': [AIMessage(content=\"Hello, my name is Alex Thompson, and I'm an analyst interested in understanding the strategic implications of adopting Langgraph for businesses. I'm particularly keen on how this framework can drive innovation and support digital transformation initiatives. Thank you for taking the time to speak with me today, Michael. \\n\\nTo start, could you explain what Langgraph is and why it's becoming a significant consideration for businesses looking to innovate?\", additional_kwargs={'refusal': None}, response_metadata={'token_usage': {'completion_tokens': 79, 'prompt_tokens': 224, 'total_tokens': 303, 'completion_tokens_details': {'accepted_prediction_tokens': 0, 'audio_tokens': 0, 'reasoning_tokens': 0, 'rejected_prediction_tokens': 0}, 'prompt_tokens_details': {'audio_tokens': 0, 'cached_tokens': 0}}, 'model_name': 'gpt-4o-2024-08-06', 'system_fingerprint': 'fp_cbf1785567', 'id': 'chatcmpl-CPRmMT7ufhFyYLhMtNpeguI9W2y6O', 'service_tier': 'default', 'finish_reason': 'stop', 'logprobs': None}, id='run--827b799b-ccb9-422c-a444-402d7ddc4550-0', usage_metadata={'input_tokens': 224, 'output_tokens': 79, 'total_tokens': 303, 'input_token_details': {'audio': 0, 'cache_read': 0}, 'output_token_details': {'audio': 0, 'reasoning': 0}})]}"
   ]
  },
  {
   "cell_type": "code",
   "execution_count": 95,
   "id": "e575f6ff",
   "metadata": {},
   "outputs": [
    {
     "name": "stderr",
     "output_type": "stream",
     "text": [
      "HTTP Request: POST https://api.groq.com/openai/v1/chat/completions \"HTTP/1.1 200 OK\"\n"
     ]
    }
   ],
   "source": [
    "result = search_web(state)"
   ]
  },
  {
   "cell_type": "code",
   "execution_count": 96,
   "id": "b12aadd4",
   "metadata": {},
   "outputs": [
    {
     "data": {
      "text/plain": [
       "'<Document href=\"https://courses.lumenlearning.com/suny-hccc-businesscommunication/chapter/messages/\"/>\\nMessages are primary, secondary, and auxiliary. A message can be divided into a five-part structure composed of an attention statement, introduction, body, conclusion, and residual message.\\n\\n### EXERCISES [...] Primary messages refer to the intentional content, both verbal and nonverbal. These are the words or ways you choose to express yourself and communicate your message. For example, if you are sitting at your desk and a coworker stops by to ask you a question, you may say, “Here, have a seat.” These words are your primary message. [...] Secondary messages refer to the unintentional content, both verbal and nonverbal. Your audience will form impressions of your intentional messages, both negative and positive, over which you have no control. Perceptions of physical attractiveness, age, gender, or ethnicity or even simple mannerisms and patterns of speech may unintentionally influence the message.\\n</Document>\\n\\n---\\n\\n<Document href=\"https://en.wikipedia.org/wiki/Message\"/>\\nA message is a unit of communication that conveys information from a sender to a receiver. It can be transmitted through various forms, such as spoken or written words, signals, or electronic data, and can range from simple instructions to complex information.( [...] In communication between humans, messages can be verbal or nonverbal:\\n\\n   A verbal message is an exchange of information using words. Examples include face-to-face communication, telephone calls, voicemails, emails, etc.\\n   A nonverbal message is communicated through actions or behaviors rather than words, such as conscious or unconscious body language. [...] In contrast, messages serve a broader role, encompassing commands (e.g., _ProcessPayment_), events (e.g., _PaymentProcessed_), and documents (e.g., _DataPayload_). Both events and messages can support various delivery guarantees, including at-least-once, at-most-once, and exactly-once, depending on the technology stack and implementation. However, exactly-once delivery is often achieved through idempotency mechanisms rather than true, infrastructure-level exactly-once semantics.(\\n</Document>\\n\\n---\\n\\n<Document href=\"https://www.collinsdictionary.com/us/dictionary/english/message\"/>\\nWord forms: 3rd person singular present tense messages,  present participle messaging,  past tense, past participle messaged\\n\\n1. countable noun\\n\\nA message is a piece of information or a request that you send to someone or leave for them when you cannot speak to them directly.\\n\\nI got a message you were trying to reach me.\\n\\nSynonyms:  communication, note, bulletin, word   More Synonyms of message\\n\\n2. countable noun [...] Word origin\\n\\nOFr < ML missaticum < pp. of L mittere, to send: see  mission\\n\\nCOBUILD frequency band\\n\\n## message in American English\\n\\n(ˈmesɪdʒ)\\n\\nnoun\\n\\n1. \\n\\na communication containing some information, news, advice, request, or the like, sent by messenger, radio, telephone, or other means\\n\\n2. \\n\\nan official communication, as from a chief executive to a legislative body\\n\\nthe President\\'s message to Congress\\n\\n3. \\n\\nthe inspired utterance of a prophet or sage\\n\\n4. Computing [...] American English: message \\n  /ˈmɛsɪdʒ/\\n Arabic: رِسَالَةٌ\\n Brazilian Portuguese: mensagem\\n Chinese: 讯息\\n Croatian: poruka\\n Czech: vzkaz\\n Danish: besked\\n Dutch: bericht\\n European Spanish: mensaje\\n Finnish: viesti\\n French: message\\n German: Botschaft \\n  Mitteilung\\n Greek: μήνυμα\\n Italian: messaggio\\n Japanese: 伝言\\n Korean: 메시지\\n Norwegian: melding\\n Polish: wiadomość\\n European Portuguese: mensagem\\n Romanian: mesaj\\n Russian: сообщение\\n Spanish: mensaje\\n Swedish: meddelande\\n Thai: ข้อความ\\n</Document>\\n\\n---\\n\\n<Document href=\"https://www.dictionary.com/browse/message\"/>\\n## verb (used with object)\\n\\n1. to send (a person) a message.\\n2. to send as a message.\\n\\nmessage\\n\\n/ ˈmɛsɪdʒ/\\n\\n## noun\\n\\n1. a communication, usually brief, from one person or group to another\\n2. an implicit meaning or moral, as in a work of art\\n3. a formal communiqué\\n4. an inspired communication of a prophet or religious leader\\n5. a mission; errand\\n6. (plural) shopping\\n\\n   going for the messages\\n7. informal,  to understand what is meant\\n\\n## verb [...] 1. a communication containing some information, news, advice, request, or the like, sent by messenger, telephone, email, or other means.\\n2. an official communication, as from a chief executive to a legislative body. [...] the president\\'s message to Congress.\\n3. Digital Technology.,  a post or reply on an online message board.\\n4. the inspired utterance of a prophet or sage.\\n5. the point, moral, or meaning of a gesture, utterance, novel, motion picture, etc.\\n6. Computers.,  a warning, permission, etc., communicated by the system or software to the user.\\n\\n   an error message;\\n\\n   a message to allow blocked content.\\n\\n## verb (used without object)\\n\\n1. to send a message, especially an electronic message.\\n</Document>\\n\\n---\\n\\n<Document href=\"https://www.merriam-webster.com/dictionary/message\"/>\\n: a communication in writing, in speech, or by signals\\n\\n2\\n\\n: a messenger\\'s errand or function\\n\\n3\\n\\n: an underlying theme or idea\\n\\nEtymology\\n\\nNoun\\n\\nMiddle English message \"job or function of a messenger,\" from early French message (same meaning), from Latin missaticum \"something given to a messenger to deliver,\" from earlier missus (past participle of mittere \"to send, throw\") and -aticum \"action, result\" — related to emit, mission, promise, submissive\\n\\n## More from Merriam-Webster on message [...] Est. 1828\\n\\nDictionary Definition\\n\\n noun\\n verb\\n noun 2 \\n  + noun\\n  + verb\\n Synonyms\\n Example Sentences\\n Word History\\n Phrases Containing\\n Rhymes\\n Entries Near\\n\\n + Cite this EntryCitation\\n  + Share\\n  + Kids DefinitionKids\\n  + More from M-W\\n\\n   Show more\\n Show more \\n  + Citation\\n  + Share\\n  + Kids\\n  + More from M-W\\n\\n + To save this word, you\\'ll need to log in.\\n\\n    Log In\\n\\n# message\\n\\n1 of 2\\n\\n## noun\\n\\nmes·\\u200bsage  ˈme-sij\")\\n\\nSynonyms of message\\n\\n: a communication in writing, in speech, or by signals [...] message\\n</Document>'"
      ]
     },
     "execution_count": 96,
     "metadata": {},
     "output_type": "execute_result"
    }
   ],
   "source": [
    "result[\"context\"][0]"
   ]
  },
  {
   "cell_type": "code",
   "execution_count": 97,
   "id": "830c5c54",
   "metadata": {},
   "outputs": [
    {
     "name": "stdout",
     "output_type": "stream",
     "text": [
      "<Document href=\"https://courses.lumenlearning.com/suny-hccc-businesscommunication/chapter/messages/\"/>\n",
      "Messages are primary, secondary, and auxiliary. A message can be divided into a five-part structure composed of an attention statement, introduction, body, conclusion, and residual message.\n",
      "\n",
      "### EXERCISES [...] Primary messages refer to the intentional content, both verbal and nonverbal. These are the words or ways you choose to express yourself and communicate your message. For example, if you are sitting at your desk and a coworker stops by to ask you a question, you may say, “Here, have a seat.” These words are your primary message. [...] Secondary messages refer to the unintentional content, both verbal and nonverbal. Your audience will form impressions of your intentional messages, both negative and positive, over which you have no control. Perceptions of physical attractiveness, age, gender, or ethnicity or even simple mannerisms and patterns of speech may unintentionally influence the message.\n",
      "</Document>\n",
      "\n",
      "---\n",
      "\n",
      "<Document href=\"https://en.wikipedia.org/wiki/Message\"/>\n",
      "A message is a unit of communication that conveys information from a sender to a receiver. It can be transmitted through various forms, such as spoken or written words, signals, or electronic data, and can range from simple instructions to complex information.( [...] In communication between humans, messages can be verbal or nonverbal:\n",
      "\n",
      "   A verbal message is an exchange of information using words. Examples include face-to-face communication, telephone calls, voicemails, emails, etc.\n",
      "   A nonverbal message is communicated through actions or behaviors rather than words, such as conscious or unconscious body language. [...] In contrast, messages serve a broader role, encompassing commands (e.g., _ProcessPayment_), events (e.g., _PaymentProcessed_), and documents (e.g., _DataPayload_). Both events and messages can support various delivery guarantees, including at-least-once, at-most-once, and exactly-once, depending on the technology stack and implementation. However, exactly-once delivery is often achieved through idempotency mechanisms rather than true, infrastructure-level exactly-once semantics.(\n",
      "</Document>\n",
      "\n",
      "---\n",
      "\n",
      "<Document href=\"https://www.collinsdictionary.com/us/dictionary/english/message\"/>\n",
      "Word forms: 3rd person singular present tense messages,  present participle messaging,  past tense, past participle messaged\n",
      "\n",
      "1. countable noun\n",
      "\n",
      "A message is a piece of information or a request that you send to someone or leave for them when you cannot speak to them directly.\n",
      "\n",
      "I got a message you were trying to reach me.\n",
      "\n",
      "Synonyms:  communication, note, bulletin, word   More Synonyms of message\n",
      "\n",
      "2. countable noun [...] Word origin\n",
      "\n",
      "OFr < ML missaticum < pp. of L mittere, to send: see  mission\n",
      "\n",
      "COBUILD frequency band\n",
      "\n",
      "## message in American English\n",
      "\n",
      "(ˈmesɪdʒ)\n",
      "\n",
      "noun\n",
      "\n",
      "1. \n",
      "\n",
      "a communication containing some information, news, advice, request, or the like, sent by messenger, radio, telephone, or other means\n",
      "\n",
      "2. \n",
      "\n",
      "an official communication, as from a chief executive to a legislative body\n",
      "\n",
      "the President's message to Congress\n",
      "\n",
      "3. \n",
      "\n",
      "the inspired utterance of a prophet or sage\n",
      "\n",
      "4. Computing [...] American English: message \n",
      "  /ˈmɛsɪdʒ/\n",
      " Arabic: رِسَالَةٌ\n",
      " Brazilian Portuguese: mensagem\n",
      " Chinese: 讯息\n",
      " Croatian: poruka\n",
      " Czech: vzkaz\n",
      " Danish: besked\n",
      " Dutch: bericht\n",
      " European Spanish: mensaje\n",
      " Finnish: viesti\n",
      " French: message\n",
      " German: Botschaft \n",
      "  Mitteilung\n",
      " Greek: μήνυμα\n",
      " Italian: messaggio\n",
      " Japanese: 伝言\n",
      " Korean: 메시지\n",
      " Norwegian: melding\n",
      " Polish: wiadomość\n",
      " European Portuguese: mensagem\n",
      " Romanian: mesaj\n",
      " Russian: сообщение\n",
      " Spanish: mensaje\n",
      " Swedish: meddelande\n",
      " Thai: ข้อความ\n",
      "</Document>\n",
      "\n",
      "---\n",
      "\n",
      "<Document href=\"https://www.dictionary.com/browse/message\"/>\n",
      "## verb (used with object)\n",
      "\n",
      "1. to send (a person) a message.\n",
      "2. to send as a message.\n",
      "\n",
      "message\n",
      "\n",
      "/ ˈmɛsɪdʒ/\n",
      "\n",
      "## noun\n",
      "\n",
      "1. a communication, usually brief, from one person or group to another\n",
      "2. an implicit meaning or moral, as in a work of art\n",
      "3. a formal communiqué\n",
      "4. an inspired communication of a prophet or religious leader\n",
      "5. a mission; errand\n",
      "6. (plural) shopping\n",
      "\n",
      "   going for the messages\n",
      "7. informal,  to understand what is meant\n",
      "\n",
      "## verb [...] 1. a communication containing some information, news, advice, request, or the like, sent by messenger, telephone, email, or other means.\n",
      "2. an official communication, as from a chief executive to a legislative body. [...] the president's message to Congress.\n",
      "3. Digital Technology.,  a post or reply on an online message board.\n",
      "4. the inspired utterance of a prophet or sage.\n",
      "5. the point, moral, or meaning of a gesture, utterance, novel, motion picture, etc.\n",
      "6. Computers.,  a warning, permission, etc., communicated by the system or software to the user.\n",
      "\n",
      "   an error message;\n",
      "\n",
      "   a message to allow blocked content.\n",
      "\n",
      "## verb (used without object)\n",
      "\n",
      "1. to send a message, especially an electronic message.\n",
      "</Document>\n",
      "\n",
      "---\n",
      "\n",
      "<Document href=\"https://www.merriam-webster.com/dictionary/message\"/>\n",
      ": a communication in writing, in speech, or by signals\n",
      "\n",
      "2\n",
      "\n",
      ": a messenger's errand or function\n",
      "\n",
      "3\n",
      "\n",
      ": an underlying theme or idea\n",
      "\n",
      "Etymology\n",
      "\n",
      "Noun\n",
      "\n",
      "Middle English message \"job or function of a messenger,\" from early French message (same meaning), from Latin missaticum \"something given to a messenger to deliver,\" from earlier missus (past participle of mittere \"to send, throw\") and -aticum \"action, result\" — related to emit, mission, promise, submissive\n",
      "\n",
      "## More from Merriam-Webster on message [...] Est. 1828\n",
      "\n",
      "Dictionary Definition\n",
      "\n",
      " noun\n",
      " verb\n",
      " noun 2 \n",
      "  + noun\n",
      "  + verb\n",
      " Synonyms\n",
      " Example Sentences\n",
      " Word History\n",
      " Phrases Containing\n",
      " Rhymes\n",
      " Entries Near\n",
      "\n",
      " + Cite this EntryCitation\n",
      "  + Share\n",
      "  + Kids DefinitionKids\n",
      "  + More from M-W\n",
      "\n",
      "   Show more\n",
      " Show more \n",
      "  + Citation\n",
      "  + Share\n",
      "  + Kids\n",
      "  + More from M-W\n",
      "\n",
      " + To save this word, you'll need to log in.\n",
      "\n",
      "    Log In\n",
      "\n",
      "# message\n",
      "\n",
      "1 of 2\n",
      "\n",
      "## noun\n",
      "\n",
      "mes·​sage  ˈme-sij\")\n",
      "\n",
      "Synonyms of message\n",
      "\n",
      ": a communication in writing, in speech, or by signals [...] message\n",
      "</Document>\n"
     ]
    }
   ],
   "source": [
    "print(result[\"context\"][0])"
   ]
  },
  {
   "cell_type": "code",
   "execution_count": 98,
   "id": "2b36c938",
   "metadata": {},
   "outputs": [],
   "source": [
    "state = {\"max_num_turns\":2,\"context\":[],\"analyst\":analyst,\"interview\":\"\",\"section\":[],'messages': [AIMessage(content=\"Hello, my name is Alex Thompson, and I'm an analyst interested in understanding the strategic implications of adopting Langgraph for businesses. I'm particularly keen on how this framework can drive innovation and support digital transformation initiatives. Thank you for taking the time to speak with me today, Michael. \\n\\nTo start, could you explain what Langgraph is and why it's becoming a significant consideration for businesses looking to innovate?\", additional_kwargs={'refusal': None}, response_metadata={'token_usage': {'completion_tokens': 79, 'prompt_tokens': 224, 'total_tokens': 303, 'completion_tokens_details': {'accepted_prediction_tokens': 0, 'audio_tokens': 0, 'reasoning_tokens': 0, 'rejected_prediction_tokens': 0}, 'prompt_tokens_details': {'audio_tokens': 0, 'cached_tokens': 0}}, 'model_name': 'gpt-4o-2024-08-06', 'system_fingerprint': 'fp_cbf1785567', 'id': 'chatcmpl-CPRmMT7ufhFyYLhMtNpeguI9W2y6O', 'service_tier': 'default', 'finish_reason': 'stop', 'logprobs': None}, id='run--827b799b-ccb9-422c-a444-402d7ddc4550-0', usage_metadata={'input_tokens': 224, 'output_tokens': 79, 'total_tokens': 303, 'input_token_details': {'audio': 0, 'cache_read': 0}, 'output_token_details': {'audio': 0, 'reasoning': 0}})]}"
   ]
  },
  {
   "cell_type": "code",
   "execution_count": 99,
   "id": "339ea5f5",
   "metadata": {},
   "outputs": [
    {
     "name": "stderr",
     "output_type": "stream",
     "text": [
      "HTTP Request: POST https://api.groq.com/openai/v1/chat/completions \"HTTP/1.1 200 OK\"\n"
     ]
    },
    {
     "name": "stdout",
     "output_type": "stream",
     "text": [
      "**************************************************\n",
      "search_query='What is Langgraph and its significance for business innovation'\n"
     ]
    }
   ],
   "source": [
    "result = search_wikipedia(state)"
   ]
  },
  {
   "cell_type": "code",
   "execution_count": 103,
   "id": "a7eb8242",
   "metadata": {},
   "outputs": [
    {
     "name": "stdout",
     "output_type": "stream",
     "text": [
      "['']\n"
     ]
    }
   ],
   "source": [
    "print(result[\"context\"])"
   ]
  },
  {
   "cell_type": "code",
   "execution_count": 104,
   "id": "8b692f13",
   "metadata": {},
   "outputs": [],
   "source": [
    "search_docs = WikipediaLoader(query=\"Langgraph\").load()"
   ]
  },
  {
   "cell_type": "code",
   "execution_count": 105,
   "id": "47943746",
   "metadata": {},
   "outputs": [
    {
     "data": {
      "text/plain": [
       "[Document(metadata={'title': 'LangChain', 'summary': \"LangChain is a software framework that helps facilitate the integration of large language models (LLMs) into applications. As a language model integration framework, LangChain's use-cases largely overlap with those of language models in general, including document analysis and summarization, chatbots, and code analysis.\\n\\n\", 'source': 'https://en.wikipedia.org/wiki/LangChain'}, page_content='LangChain is a software framework that helps facilitate the integration of large language models (LLMs) into applications. As a language model integration framework, LangChain\\'s use-cases largely overlap with those of language models in general, including document analysis and summarization, chatbots, and code analysis.\\n\\n\\n== History ==\\nLangChain was launched in October 2022 as an open source project by Harrison Chase, while working at machine learning startup Robust Intelligence. In April 2023, LangChain had incorporated and the new startup raised over $20 million in funding at a valuation of at least $200 million from venture firm Sequoia Capital, a week after announcing a $10 million seed investment from Benchmark.\\nIn the third quarter of 2023, the LangChain Expression Language (LCEL) was introduced, which provides a declarative way to define chains of actions.\\nIn October 2023 LangChain introduced LangServe, a deployment tool to host LCEL code as a production-ready API.\\nIn February 2024 LangChain released LangSmith, a closed-source observability and evaluation platform for LLM applications, and announced a US $25 million Series A led by Sequoia Capital. On 14 May 2025 the company launched LangGraph Platform into general availability, providing managed infrastructure for deploying long-running, stateful AI agents.\\n\\n\\n== Capabilities ==\\nLangChain\\'s developers highlight the framework\\'s applicability to use-cases including chatbots, retrieval-augmented generation,  document summarization, and synthetic data generation.\\nAs of March 2023, LangChain included integrations with systems including Amazon, Google, and Microsoft Azure cloud storage; API wrappers for news, movie information, and weather; Bash for summarization, syntax and semantics checking, and execution of shell scripts; multiple web scraping subsystems and templates; few-shot learning prompt generation support; finding and summarizing \"todo\" tasks in code; Google Drive documents, spreadsheets, and presentations summarization, extraction, and creation; Google Search and Microsoft Bing web search; OpenAI, Anthropic, and Hugging Face language models; iFixit repair guides and wikis search and summarization; MapReduce for question answering, combining documents, and question generation; N-gram overlap scoring; PyPDF, pdfminer, fitz, and pymupdf for PDF file text extraction and manipulation; Python and JavaScript code generation, analysis, and debugging; Milvus vector database to store and retrieve vector embeddings; Weaviate vector database to cache embedding and data objects; Redis cache database storage; Python RequestsWrapper and other methods for API requests; SQL and NoSQL databases including JSON support; Streamlit, including for logging; text mapping for k-nearest neighbors search; time zone conversion and calendar operations; tracing and recording stack symbols in threaded and asynchronous subprocess runs; and the Wolfram Alpha website and SDK. As of April 2023, it can read from more than 50 document types and data sources.\\n\\n\\n== LangChain tools ==\\n\\n\\n== References ==\\n\\n\\n== External links ==\\n\\nOfficial website\\nDiscord server support hub\\nLangchain-ai on GitHub')]"
      ]
     },
     "execution_count": 105,
     "metadata": {},
     "output_type": "execute_result"
    }
   ],
   "source": [
    "search_docs"
   ]
  },
  {
   "cell_type": "code",
   "execution_count": null,
   "id": "c5d9f570",
   "metadata": {},
   "outputs": [],
   "source": []
  }
 ],
 "metadata": {
  "kernelspec": {
   "display_name": ".venv",
   "language": "python",
   "name": "python3"
  },
  "language_info": {
   "codemirror_mode": {
    "name": "ipython",
    "version": 3
   },
   "file_extension": ".py",
   "mimetype": "text/x-python",
   "name": "python",
   "nbconvert_exporter": "python",
   "pygments_lexer": "ipython3",
   "version": "3.11.13"
  }
 },
 "nbformat": 4,
 "nbformat_minor": 5
}
